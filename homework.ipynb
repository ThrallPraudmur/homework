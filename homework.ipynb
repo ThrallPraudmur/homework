{
 "cells": [
  {
   "cell_type": "markdown",
   "id": "024bb94b",
   "metadata": {},
   "source": [
    "***Условия соревнования: (по три звёздочки)***\n",
    "- Компьютер загадывает целое число от 0 до 100, и нам его нужно угадать. Под «угадать», подразумевается «написать программу, которая угадывает число».\n",
    "- Алгоритм учитывает информацию о том, больше ли случайное число или меньше нужного нам.\n",
    "\n",
    "**Метрика качества (по две звёздочки)**     \n",
    "Результаты оцениваются по среднему количеству попыток при 1000 повторений\n",
    "\n",
    "*Что практикуем (одна звёздочка)*     \n",
    "Учимся писать хороший код на python\n",
    "Ещё Markdown-ы практикую "
   ]
  },
  {
   "cell_type": "code",
   "execution_count": 2,
   "id": "dd86e684",
   "metadata": {},
   "outputs": [],
   "source": [
    "import numpy as np"
   ]
  },
  {
   "cell_type": "code",
   "execution_count": 3,
   "id": "489a3dc1",
   "metadata": {},
   "outputs": [],
   "source": [
    "def random_predict(number:int=np.random.randint(1, 101)) -> int:\n",
    "    \"\"\"Рандомно угадываем число\n",
    "\n",
    "    Args:\n",
    "        number (int, optional): Загаданное число. По умолчанию рандомно загадывается компьютером в диапазоне 1-100.\n",
    "\n",
    "    Returns:\n",
    "        int: Число попыток\n",
    "    \"\"\"\n",
    "\n",
    "    count = 0\n",
    "    nash_diapazon = [1, 100]\n",
    "    predict_number = np.random.randint(1, 101)\n",
    "    while predict_number != number:\n",
    "        count += 1\n",
    "        if predict_number > number:\n",
    "            nash_diapazon[1] = predict_number - 1\n",
    "            predict_number = (nash_diapazon[0] + nash_diapazon[1]) // 2\n",
    "            #если предполагаемое число больше загаданного, то оно в диапазоне от 1 до предполагаемого\n",
    "            #делим на два, чтобы с равной вероятностью оценить обе половины нового диапазона\n",
    "        else:\n",
    "            nash_diapazon[0] = predict_number + 1\n",
    "            predict_number = (nash_diapazon[0] + nash_diapazon[1]) // 2\n",
    "    return count"
   ]
  },
  {
   "cell_type": "code",
   "execution_count": 4,
   "id": "c00fe891",
   "metadata": {},
   "outputs": [],
   "source": [
    "def score_game(random_predict) -> int:\n",
    "    \"\"\"За какое количство попыток в среднем за 1000 подходов угадывает наш алгоритм\n",
    "\n",
    "    Args:\n",
    "        random_predict ([type]): функция угадывания\n",
    "\n",
    "    Returns:\n",
    "        int: среднее количество попыток\n",
    "    \"\"\"\n",
    "    count_ls = []\n",
    "    np.random.seed(1)  # фиксируем сид для воспроизводимости\n",
    "    random_array = np.random.randint(1, 101, size=1000) #загадали список чисел\n",
    "\n",
    "    for number in random_array:\n",
    "        count_ls.append(random_predict(number))\n",
    "\n",
    "    score = int(np.mean(count_ls))\n",
    "    print(f\"Ваш алгоритм угадывает число в среднем за:{score} попыток\")\n",
    "    return score"
   ]
  },
  {
   "cell_type": "code",
   "execution_count": 5,
   "id": "4f9956b1",
   "metadata": {},
   "outputs": [
    {
     "data": {
      "text/plain": [
       "5"
      ]
     },
     "execution_count": 5,
     "metadata": {},
     "output_type": "execute_result"
    }
   ],
   "source": [
    "random_predict()"
   ]
  },
  {
   "cell_type": "code",
   "execution_count": 6,
   "id": "1496a03e",
   "metadata": {},
   "outputs": [
    {
     "name": "stdout",
     "output_type": "stream",
     "text": [
      "Ваш алгоритм угадывает число в среднем за:5 попыток\n"
     ]
    },
    {
     "data": {
      "text/plain": [
       "5"
      ]
     },
     "execution_count": 6,
     "metadata": {},
     "output_type": "execute_result"
    }
   ],
   "source": [
    "score_game(random_predict)"
   ]
  },
  {
   "cell_type": "markdown",
   "id": "143af159",
   "metadata": {},
   "source": [
    "### Вывод: \n",
    "***Полученный алгорит в среднем угадывает число за 5 попыток***"
   ]
  }
 ],
 "metadata": {
  "kernelspec": {
   "display_name": "Python 3 (ipykernel)",
   "language": "python",
   "name": "python3"
  },
  "language_info": {
   "codemirror_mode": {
    "name": "ipython",
    "version": 3
   },
   "file_extension": ".py",
   "mimetype": "text/x-python",
   "name": "python",
   "nbconvert_exporter": "python",
   "pygments_lexer": "ipython3",
   "version": "3.9.13"
  }
 },
 "nbformat": 4,
 "nbformat_minor": 5
}
